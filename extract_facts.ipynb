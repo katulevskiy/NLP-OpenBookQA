{
  "nbformat": 4,
  "nbformat_minor": 0,
  "metadata": {
    "colab": {
      "provenance": []
    },
    "kernelspec": {
      "name": "python3",
      "display_name": "Python 3"
    },
    "language_info": {
      "name": "python"
    }
  },
  "cells": [
    {
      "cell_type": "code",
      "execution_count": 4,
      "metadata": {
        "colab": {
          "base_uri": "https://localhost:8080/"
        },
        "id": "g8I8hXxkdMpW",
        "outputId": "de148e76-e92c-424b-c5cb-934e5c97ade7"
      },
      "outputs": [
        {
          "output_type": "stream",
          "name": "stdout",
          "text": [
            "fatal: destination path 'NLP-OpenBookQA' already exists and is not an empty directory.\n"
          ]
        }
      ],
      "source": [
        "!git clone https://github.com/katulevskiy/NLP-OpenBookQA.git"
      ]
    },
    {
      "cell_type": "code",
      "source": [
        "'''\n",
        "Imports\n",
        "'''\n",
        "\n",
        "from sentence_transformers import SentenceTransformer, util\n",
        "import torch"
      ],
      "metadata": {
        "id": "3bf24T4BfZCH"
      },
      "execution_count": 18,
      "outputs": []
    },
    {
      "cell_type": "code",
      "source": [
        "'''\n",
        "Load model + list of facts, get fact embeddings. for now just using all-mpbnet-base-v2\n",
        "'''\n",
        "\n",
        "model_name = \"all-mpnet-base-v2\"\n",
        "model = SentenceTransformer(model_name)\n",
        "\n",
        "facts = []\n",
        "facts_file = open(\"/content/NLP-OpenBookQA/OpenBookQA-V1-Sep2018/Data/Main/openbook.txt\",\"r\")\n",
        "for fact in facts_file.readlines():\n",
        "  facts.append(fact[1:len(fact)-2])\n",
        "\n",
        "fact_embeddings = model.encode(facts, convert_to_tensor=True)"
      ],
      "metadata": {
        "id": "Na9Hyig4dmw-"
      },
      "execution_count": 15,
      "outputs": []
    },
    {
      "cell_type": "code",
      "source": [
        "torch.save(fact_embeddings,\"fact_embeddings.pt\")"
      ],
      "metadata": {
        "id": "5Cqc0uVEiFEN"
      },
      "execution_count": 19,
      "outputs": []
    },
    {
      "cell_type": "code",
      "source": [
        "def get_top_k_facts(query,embedding_model,fact_embeddings,k=3, per_answer=False):\n",
        "  if not per_answer:\n",
        "    query_embedding = embedding_model.encode(query, convert_to_tensor=True)\n",
        "    cos_scores = util.cos_sim(query_embedding, fact_embeddings)[0]\n",
        "    top_k_indices = cos_scores.topk(k=k).indices\n",
        "    results = [facts[idx] for idx in top_k_indices]\n",
        "    return results\n",
        "\n",
        "  queries = []\n",
        "  question = query.split('(A)')[0][:-1]\n",
        "\n",
        "  answer_a = query.split('(A)')[1].split('(B)')[0][:-1]\n",
        "  queries.append(question + answer_a)\n",
        "  answer_b = query.split('(B)')[1].split('(C)')[0][:-1]\n",
        "  queries.append(question + answer_b)\n",
        "  answer_c = query.split('(C)')[1].split('(D)')[0][:-1]\n",
        "  queries.append(question + answer_c)\n",
        "  answer_d = query.split('(D)')[1]\n",
        "  queries.append(question + answer_d)\n",
        "\n",
        "  results = []\n",
        "  for query in queries:\n",
        "    query_embedding = embedding_model.encode(query, convert_to_tensor=True)\n",
        "    cos_scores = util.cos_sim(query_embedding, fact_embeddings)[0]\n",
        "    top_k_indices = cos_scores.topk(k=k).indices\n",
        "    for idx in top_k_indices:\n",
        "      results.append(facts[idx])\n",
        "      fact_embeddings = torch.cat((fact_embeddings[:idx], fact_embeddings[idx+1:]))\n",
        "\n",
        "  return results"
      ],
      "metadata": {
        "id": "XZMdd8dXfxHB"
      },
      "execution_count": 74,
      "outputs": []
    },
    {
      "cell_type": "code",
      "source": [
        "fact_embeddings = torch.load(\"fact_embeddings.pt\",weights_only=True)\n",
        "\n",
        "query = \"The sun is responsible for\t(A) puppies learning new tricks (B) children growing up and getting old (C) flowers wilting in a vase (D) plants sprouting, blooming and wilting\"\n",
        "\n",
        "print(\"Getting top 3 for each answer choice:\\n\")\n",
        "for fact in get_top_k_facts(query,model,fact_embeddings,per_answer=True):\n",
        "  print(fact)\n",
        "\n",
        "print(\"\\n\\n\")\n",
        "print(\"Getting top 12 for query with all answer choices:\\n\")\n",
        "for fact in get_top_k_facts(query,model,fact_embeddings,k=12):\n",
        "  print(fact)\n"
      ],
      "metadata": {
        "colab": {
          "base_uri": "https://localhost:8080/"
        },
        "id": "0UEXWaWYhFdW",
        "outputId": "97d91b5c-7439-48b2-e72b-112245f4e07e"
      },
      "execution_count": 72,
      "outputs": [
        {
          "output_type": "stream",
          "name": "stdout",
          "text": [
            "Getting top 3 for each answer choice:\n",
            "\n",
            "the sun is the source of energy for life on Earth\n",
            "the sun is the source of solar energy called sunlight\n",
            "the sun is a source of light called sunlight\n",
            "the sun is located directly overhead at noon\n",
            "the sun is the source of energy for life on Earth\n",
            "the sun is a source of heat called sunlight\n",
            "a plant requires sunlight to grow\n",
            "a plant requires sunlight for photosynthesis\n",
            "if a tree falls then sunlight becomes available to the surrounding plants\n",
            "a leaf absorbs sunlight to perform photosynthesis\n",
            "photosynthesis means green plants convert from carbon dioxide, water, and solar energy into oxygen for themselves\n",
            "a plant light is used for help plants by mimicking sunlight\n",
            "\n",
            "\n",
            "\n",
            "Getting top 12 for query with all answer choices:\n",
            "\n",
            "the sun is the source of energy for life on Earth\n",
            "the sun is the source of energy for physical cycles on Earth\n",
            "the sun is the source of solar energy called sunlight\n",
            "the sun is a source of light called sunlight\n",
            "the sun is a source of heat called sunlight\n",
            "sunlight produces heat\n",
            "the sun transfers solar energy from itself to the Earth through sunlight\n",
            "the sun rising and setting causes cycles of day and night\n",
            "a leaf absorbs sunlight to perform photosynthesis\n",
            "if something is outside during the day then that something will receive sunlight\n",
            "the sun transfers heat energy from itself to the planets through sunlight\n",
            "sunlight contains ultraviolet light\n"
          ]
        }
      ]
    },
    {
      "cell_type": "code",
      "source": [
        "query = \"When standing miles away from Mount Rushmore (A) the mountains seem very close (B) the mountains are boring (C) the mountains look the same as from up close (D) the mountains seem smaller than in photographs\"\n",
        "\n",
        "print(\"Getting top 3 for each answer choice:\\n\")\n",
        "for fact in get_top_k_facts(query,model,fact_embeddings,per_answer=True):\n",
        "  print(fact)\n",
        "\n",
        "print(\"\\n\\n\")\n",
        "print(\"Getting top 12 for query with all answer choices:\\n\")\n",
        "for fact in get_top_k_facts(query,model,fact_embeddings,k=12):\n",
        "  print(fact)"
      ],
      "metadata": {
        "colab": {
          "base_uri": "https://localhost:8080/"
        },
        "id": "cXj2v7leioAF",
        "outputId": "f31abe9b-c6d8-4d2f-a894-b2b5a9aade4e"
      },
      "execution_count": 73,
      "outputs": [
        {
          "output_type": "stream",
          "name": "stdout",
          "text": [
            "Getting top 3 for each answer choice:\n",
            "\n",
            "as distance from an object decreases , that object will appear larger\n",
            "the surface of the Earth contains mountains\n",
            "if an object is close then that object will appear large\n",
            "the sun transfers heat energy from itself to the planets through sunlight\n",
            "motion is a source of kinetic energy in an object\n",
            "landfills have a negative impact on the communities\n",
            "telephones convert sound energy into electrical energy\n",
            "if an object is blue then that object reflects only blue light\n",
            "as distance to a city decreases , the amount of light pollution will increase\n",
            "as the size of a leaf increases , the amount of sunlight absorbed by that leaf will increase\n",
            "as the size of a flower increases , the number of pollinators it will attract increases\n",
            "loss of resources has a negative impact on the organisms in an area\n",
            "\n",
            "\n",
            "\n",
            "Getting top 12 for query with all answer choices:\n",
            "\n",
            "the surface of the Earth contains mountains\n",
            "the surface of the Moon contains mountains\n",
            "as distance from an object decreases , that object will appear larger\n",
            "if an object is close then that object will appear large\n",
            "mountains are formed by volcanoes\n",
            "as distance to an object increases , that object will appear smaller\n",
            "the Appalachians were formed by rock folding\n",
            "as the size of an object appears larger , that object will be observed better\n",
            "landslides often occur on mountains\n",
            "as the size of an object appears larger , that object will be seen more easily\n",
            "a tape measure is used to measure distance\n",
            "mountains are formed by plate tectonics\n"
          ]
        }
      ]
    },
    {
      "cell_type": "code",
      "source": [],
      "metadata": {
        "id": "qFfAPtLTjPbq"
      },
      "execution_count": null,
      "outputs": []
    }
  ]
}